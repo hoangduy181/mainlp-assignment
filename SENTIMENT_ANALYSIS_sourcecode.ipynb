{
  "cells": [
    {
      "cell_type": "markdown",
      "metadata": {
        "id": "CpbO1qacQtSp"
      },
      "source": [
        "# Setting up"
      ]
    },
    {
      "cell_type": "markdown",
      "metadata": {
        "id": "rbf_gKg2Q1FY"
      },
      "source": [
        "Google drive"
      ]
    },
    {
      "cell_type": "code",
      "execution_count": 1,
      "metadata": {
        "colab": {
          "base_uri": "https://localhost:8080/"
        },
        "id": "sQic7KJRaSP6",
        "outputId": "83edecfe-f933-4ea4-c454-53c563a9c2e8"
      },
      "outputs": [
        {
          "name": "stdout",
          "output_type": "stream",
          "text": [
            "Mounted at /content/drive\n"
          ]
        }
      ],
      "source": [
        "from google.colab import drive\n",
        "drive.mount('/content/drive')"
      ]
    },
    {
      "cell_type": "code",
      "execution_count": 2,
      "metadata": {
        "id": "vKwxqnqHx3Na"
      },
      "outputs": [],
      "source": [
        "!cp -r \"/content/drive/MyDrive/Colab Notebooks/Lab5 NLP\" /content"
      ]
    },
    {
      "cell_type": "code",
      "execution_count": 3,
      "metadata": {
        "colab": {
          "base_uri": "https://localhost:8080/"
        },
        "id": "3yKo_OxxyAHe",
        "outputId": "540b875b-2b3e-42cb-db91-6f35d607796c"
      },
      "outputs": [
        {
          "name": "stdout",
          "output_type": "stream",
          "text": [
            "/content/drive/.shortcut-targets-by-id/1XFdYuE8rHrSu7dNPzRg9fYr7ijFVPVRB/Lab5 NLP\n"
          ]
        }
      ],
      "source": [
        "%cd \"/content/Lab5 NLP\""
      ]
    },
    {
      "cell_type": "markdown",
      "metadata": {
        "id": "VJ7fsgqGr6Xk"
      },
      "source": [
        "Imports "
      ]
    },
    {
      "cell_type": "code",
      "execution_count": 4,
      "metadata": {
        "colab": {
          "base_uri": "https://localhost:8080/"
        },
        "id": "aoVjFKmOZMZ8",
        "outputId": "43cf6e7d-ef66-4bd9-ca42-081606159d79"
      },
      "outputs": [
        {
          "name": "stdout",
          "output_type": "stream",
          "text": [
            "Looking in indexes: https://pypi.org/simple, https://us-python.pkg.dev/colab-wheels/public/simple/\n",
            "Collecting pyvi\n",
            "  Downloading pyvi-0.1.1-py2.py3-none-any.whl (8.5 MB)\n",
            "\u001b[K     |████████████████████████████████| 8.5 MB 15.2 MB/s \n",
            "\u001b[?25hRequirement already satisfied: scikit-learn in /usr/local/lib/python3.7/dist-packages (from pyvi) (1.0.2)\n",
            "Collecting sklearn-crfsuite\n",
            "  Downloading sklearn_crfsuite-0.3.6-py2.py3-none-any.whl (12 kB)\n",
            "Requirement already satisfied: scipy>=1.1.0 in /usr/local/lib/python3.7/dist-packages (from scikit-learn->pyvi) (1.7.3)\n",
            "Requirement already satisfied: numpy>=1.14.6 in /usr/local/lib/python3.7/dist-packages (from scikit-learn->pyvi) (1.21.6)\n",
            "Requirement already satisfied: threadpoolctl>=2.0.0 in /usr/local/lib/python3.7/dist-packages (from scikit-learn->pyvi) (3.1.0)\n",
            "Requirement already satisfied: joblib>=0.11 in /usr/local/lib/python3.7/dist-packages (from scikit-learn->pyvi) (1.2.0)\n",
            "Requirement already satisfied: six in /usr/local/lib/python3.7/dist-packages (from sklearn-crfsuite->pyvi) (1.15.0)\n",
            "Collecting python-crfsuite>=0.8.3\n",
            "  Downloading python_crfsuite-0.9.8-cp37-cp37m-manylinux_2_17_x86_64.manylinux2014_x86_64.whl (965 kB)\n",
            "\u001b[K     |████████████████████████████████| 965 kB 66.6 MB/s \n",
            "\u001b[?25hRequirement already satisfied: tabulate in /usr/local/lib/python3.7/dist-packages (from sklearn-crfsuite->pyvi) (0.8.10)\n",
            "Requirement already satisfied: tqdm>=2.0 in /usr/local/lib/python3.7/dist-packages (from sklearn-crfsuite->pyvi) (4.64.1)\n",
            "Installing collected packages: python-crfsuite, sklearn-crfsuite, pyvi\n",
            "Successfully installed python-crfsuite-0.9.8 pyvi-0.1.1 sklearn-crfsuite-0.3.6\n"
          ]
        }
      ],
      "source": [
        "!pip install pyvi"
      ]
    },
    {
      "cell_type": "code",
      "execution_count": 5,
      "metadata": {
        "id": "8TFX7wSAmg9y"
      },
      "outputs": [],
      "source": [
        "import tensorflow as tf\n",
        "import pandas as pd \n",
        "import numpy as np\n",
        "from string import ascii_lowercase, digits, punctuation\n",
        "from collections import Counter\n",
        "from pyvi import ViTokenizer\n",
        "from gensim.models.word2vec import Word2Vec\n",
        "from keras.utils.np_utils import to_categorical\n",
        "import matplotlib.pyplot as plt\n",
        "%matplotlib inline"
      ]
    },
    {
      "cell_type": "markdown",
      "metadata": {
        "id": "bxMXgVwHW0F-"
      },
      "source": [
        "Check available gpu"
      ]
    },
    {
      "cell_type": "code",
      "execution_count": 6,
      "metadata": {
        "id": "jns07H2zPOjT"
      },
      "outputs": [],
      "source": [
        "gpu_available = tf.config.list_physical_devices('CPU')\n",
        "if len(gpu_available) == 0:\n",
        "  device = tf.device('/device:CPU:0')\n",
        "else:\n",
        "  device = tf.device('/device:GPU:0')"
      ]
    },
    {
      "cell_type": "markdown",
      "metadata": {
        "id": "pBu0Ner0r-kD"
      },
      "source": [
        "# Data"
      ]
    },
    {
      "cell_type": "markdown",
      "metadata": {
        "id": "uZSn0ovURBWX"
      },
      "source": [
        "### Train and test data"
      ]
    },
    {
      "cell_type": "code",
      "execution_count": 7,
      "metadata": {
        "id": "a7lMy03omg93",
        "scrolled": true
      },
      "outputs": [],
      "source": [
        "data_train = pd.read_csv(\"vlsp_sentiment_train.csv\", sep='\\t')\n",
        "data_train.columns =['Class', 'Data']\n",
        "data_test = pd.read_csv(\"vlsp_sentiment_test.csv\", sep='\\t')\n",
        "data_test.columns =['Class', 'Data']"
      ]
    },
    {
      "cell_type": "code",
      "execution_count": 8,
      "metadata": {
        "colab": {
          "base_uri": "https://localhost:8080/"
        },
        "id": "4HR1jAzImg94",
        "outputId": "0b19e486-3001-4513-e04a-bc96701f33d7"
      },
      "outputs": [
        {
          "name": "stdout",
          "output_type": "stream",
          "text": [
            "(5100, 2)\n",
            "(1050, 2)\n"
          ]
        }
      ],
      "source": [
        "print(data_train.shape)\n",
        "print(data_test.shape)"
      ]
    },
    {
      "cell_type": "code",
      "execution_count": 9,
      "metadata": {
        "id": "jvrbwPfZmg95"
      },
      "outputs": [],
      "source": [
        "labels_train = data_train.iloc[:, 0].values\n",
        "reviews_train = data_train.iloc[:, 1].values"
      ]
    },
    {
      "cell_type": "code",
      "execution_count": 10,
      "metadata": {
        "id": "C5nqh2-SenAO"
      },
      "outputs": [],
      "source": [
        "labels_test = data_test.iloc[:, 0].values\n",
        "reviews_test = data_test.iloc[:, 1].values"
      ]
    },
    {
      "cell_type": "markdown",
      "metadata": {
        "id": "t9_iaoPvQ_uX"
      },
      "source": [
        "### Typos, teencode/ slang, stopwords"
      ]
    },
    {
      "cell_type": "code",
      "execution_count": null,
      "metadata": {
        "id": "tUo9aEkmXWGU"
      },
      "outputs": [],
      "source": [
        "# stopwords = pd.read_csv(\"vietnamese_stopwords.txt\", sep='\\t')\n",
        "# stopwords_dash = stopwords.iloc[:,0].values\n",
        "# stopwords_dash"
      ]
    },
    {
      "cell_type": "code",
      "execution_count": 11,
      "metadata": {
        "id": "LmliukWi4-oc"
      },
      "outputs": [],
      "source": [
        "typo = pd.read_csv(\"typo.txt\", sep = '\\t')\n",
        "typo_words = typo.iloc[:,0].values\n",
        "replace_typos = typo.iloc[:,1].values"
      ]
    },
    {
      "cell_type": "code",
      "execution_count": 12,
      "metadata": {
        "id": "DiNgQ-BGEbjA"
      },
      "outputs": [],
      "source": [
        "teencode = pd.read_csv(\"teencode.txt\", sep = '\\t')\n",
        "teencode_words = teencode.iloc[:,0].values\n",
        "replace_words = teencode.iloc[:,1].values"
      ]
    },
    {
      "cell_type": "code",
      "execution_count": null,
      "metadata": {
        "colab": {
          "base_uri": "https://localhost:8080/"
        },
        "id": "LD3kTh6aGY3_",
        "outputId": "4f94a8c4-144d-465d-fbfb-2436267d4aed"
      },
      "outputs": [
        {
          "data": {
            "text/plain": [
              "array(['ctrai', 'éo', 'dag', 'zay', 'bt', 'khôg', 'bme', 'ngol', 'cta',\n",
              "       'mih'], dtype=object)"
            ]
          },
          "execution_count": 13,
          "metadata": {},
          "output_type": "execute_result"
        }
      ],
      "source": [
        "teencode_words[:10]"
      ]
    },
    {
      "cell_type": "code",
      "execution_count": null,
      "metadata": {
        "colab": {
          "base_uri": "https://localhost:8080/"
        },
        "id": "af0S4Y32GeU-",
        "outputId": "6733b6c0-9eb7-46ba-c262-e884351951ab"
      },
      "outputs": [
        {
          "data": {
            "text/plain": [
              "array(['con_trai', 'không', 'đang', 'vậy', 'bình_thường', 'không',\n",
              "       'bố_mẹ', 'ngon', 'chúng_ta', 'mình'], dtype=object)"
            ]
          },
          "execution_count": 14,
          "metadata": {},
          "output_type": "execute_result"
        }
      ],
      "source": [
        "replace_words[:10]"
      ]
    },
    {
      "cell_type": "markdown",
      "metadata": {
        "id": "GJuGIkt7ROwR"
      },
      "source": [
        "Create dictionary for teencode and typo"
      ]
    },
    {
      "cell_type": "code",
      "execution_count": 13,
      "metadata": {
        "colab": {
          "base_uri": "https://localhost:8080/"
        },
        "id": "z9Dj0Cfc7rcC",
        "outputId": "75927583-64e3-45c4-8f6b-aec562068603"
      },
      "outputs": [
        {
          "name": "stdout",
          "output_type": "stream",
          "text": [
            "{'adnroid': 'android', 'adroid': 'android', 'andoid': 'android', 'andorid': 'android', 'androi': 'android', 'anroid': 'android', 'droid': 'android', 'aiphon': 'iphone', 'aiphone': 'iphone', 'aple': 'apple', 'appel': 'apple', 'asuck': 'asus', 'bbry': 'blackberry', 'blackckberry': 'blackberry', 'blackbery': 'blackberry', 'btuetooth': 'bluetooth', 'bluethooth': 'bluetooth', 'bluetouth': 'bluetooth', 'blutoot': 'bluetooth', 'blutooth': 'bluetooth', 'chịná': 'china', 'chíp': 'chip', 'contac': 'contact', 'conect': 'connect', 'dowload': 'download', 'dùngvaà': 'dùng và', 'đagn': 'đang', 'điiiiiiiiiiiiiiiiiiiiiiiiiiiiiiii': 'đi', 'đọv': 'đọc', 'đứnghoài': 'đứng hoài', 'expnsive': 'expensive', 'fim': 'film', 'formart': 'format', 'galaaxy': 'galaxy', 'gảmin': 'gaming', 'giiwf': 'giờ', 'glaxy': 'galaxy', 'huwaei': 'huawei    ', 'huwei': 'huawei', 'iclound': 'icloud', 'ifone': 'iphone', 'ihone': 'iphone', 'ipnone': 'iphone', 'kkkkkkkkkkkkk': 'kk', 'kkkkkkk': 'kk', 'kkk': 'kk', 'kkhác': 'khác', 'martphone': 'smartphone', 'mesage': 'message', 'messege': 'message', 'messgenser': 'messenger', 'microlap': 'microlab', 'môbistar': 'mobiistar', 'mobillestar': 'mobiistar', 'mobista': 'mobiistar', 'mobistar': 'mobiistar', 'mobitsar': 'mobiistar', 'mobittar': 'mobiistar', 'niceeeeeeeeeeeeeeeee': 'nice', 'nókìa': 'nokia', 'qualcom': 'qualcomm', 'reciever': 'receiver', 'reciver': 'receiver', 'retine': 'retina', 'romosst': 'romoss', 'rồigiá': 'rồi giá', 'saerch': 'search', 'sámung': 'samsung', 'singapor': 'singapore', 'smatphon': 'smartphone', 'solfware': 'software', 'soni': 'sony', 'sorri': 'sorry', 'úb': 'usb', 'wiffi': 'wifi', 'wìi': 'wifi', 'triêu': 'triệu', 'window': 'windows', 'windown': 'windows', 'windowphone': 'windowsphone', 'windophon': 'windowsphone', 'zefnone': 'zenfone', 'zènone': 'zenfone'}\n"
          ]
        }
      ],
      "source": [
        "typo_dict = {}\n",
        "for i in range(len(typo_words)):\n",
        "  typo_dict[typo_words[i]] = replace_typos[i]\n",
        "\n",
        "print(typo_dict)"
      ]
    },
    {
      "cell_type": "code",
      "execution_count": 14,
      "metadata": {
        "colab": {
          "base_uri": "https://localhost:8080/"
        },
        "id": "EU_029tGG71N",
        "outputId": "f5e5782f-9cf0-44ee-9709-8adf459b46d3"
      },
      "outputs": [
        {
          "name": "stdout",
          "output_type": "stream",
          "text": [
            "{'ctrai': 'con_trai', 'éo': 'không', 'dag': 'đang', 'zay': 'vậy', 'bt': 'bình_thường', 'khôg': 'không', 'bme': 'bố_mẹ', 'ngol': 'ngon', 'cta': 'chúng_ta', 'mih': 'mình', 'mqh': 'mối_quan_hệ', 'cgai': 'con_gái', 'nhữg': 'những', 'mng': 'mọi_người', 'rùi': 'rồi', 'svtn': 'sinh_viên_tình_nguyện', 'r': 'rồi', 'mún': 'muốn', 'ụaj': 'gì', 'qtam': 'quan_tâm', 'thươg': 'thương', 'qtâm': 'quan_tâm', 'chug': 'chung', 'trườg': 'trường', 'thoy': 'thôi', 'đki': 'đăng_ký', 'atsm': 'ảo_tưởng_sức_mạnh', 'kỉu': 'kiểu', 'gj': 'gì', 'cổg': 'cổng', 'pên': 'bên', 'tráj': 'trái', 'ạk': 'ạ', 'cv': 'công_việc', 'vch': 'vãi_chưởng', 'cùg': 'cùng', 'pn': 'bạn', 'pjt': 'biết', 'thjk': 'thích', 'keke': 'ce_ce', 'ktra': 'kiểm_tra', 'nek': 'nè', 'cgái': 'con_gái', 'nthe': 'như_thế', 'chúg': 'chúng', 'kái': 'cái', 'tìh': 'tình', 'phòg': 'phòng', 'lòg': 'lòng', 'từg': 'từng', 'rằg': 'rằng', 'sốg': 'sống', 'thuj': 'thôi', 'thuơng': 'thương', 'càg': 'càng', 'đky': 'đăng_ký', 'bằg': 'bằng', 'sviên': 'sinh_viên', 'ák': 'á', 'đág': 'đáng', 'nvay': 'như_vậy', 'nhjeu': 'nhiều', 'xg': 'xuống', 'zồi': 'rồi', 'trag': 'trang', 'zữ': 'dữ', 'atrai': 'anh_trai', 'kte': 'kinh_tế', 'độg': 'động', 'lmht': 'liên_minh_huyền_thoại', 'gắg': 'gắng', 'đzai': 'đẹp_trai', 'thgian': 'thời_gian', 'plz': 'pờ_ly', 'đồg': 'đồng', 'btrai': 'bạn_trai', 'nthê': 'như_thế', 'hìhì': 'hì_hì', 'vọg': 'vọng', 'hihe': 'hi_he', 'đôg': 'đông', 'răg': 'răng', 'thườg': 'thường', 'tcảm': 'tình_cảm', 'đứg': 'đứng', 'ksao': 'không_sao', 'dz': 'đẹp_trai', 'hjxhjx': 'hix_hix', 'cmày': 'chúng_mày', 'xuốg': 'xuống', 'nkư': 'như', 'lquan': 'liên_quan', 'tiếg': 'tiếng', 'hajz': 'hai', 'xih': 'xinh', 'hìh': 'hình', 'thàh': 'thành', 'ngke': 'nghe', 'dzậy': 'dậy', 'tnào': 'thế_nào', 'tưởg': 'tưởng', 'ctrinh': 'chương_trình', 'phog': 'phong', 'hôg': 'không', 'zìa': 'gì', 'kũg': 'cũng', 'ntnao': 'như_thế_nào', 'trọg': 'trọng', 'nthế': 'như_thế', 'năg': 'năng', 'ngđó': 'người_đó', 'lquen': 'làm_quen', 'riêg': 'riêng', 'ngag': 'ngang', 'hêhê': 'hê_hê', 'bnhiu': 'bao_nhiêu', 'ngốk': 'ngốc', 'kậu': 'cậu', 'kqua': 'kết_quả', 'htrc': 'hôm_trước', 'địh': 'định', 'gđình': 'gia_đinh', 'giốg': 'giống', 'csống': 'cuộc_sống', 'xug': 'xùng', 'zùi': 'rồi', 'bnhiêu': 'bao_nhiêu', 'cbị': 'chuẩn_bị', 'kòn': 'còn', 'buôg': 'buông', 'csong': 'cuộc_sống', 'chàg': 'chàng', 'chăg': 'chăng', 'ngàh': 'ngành', 'llac': 'liên_lạc', 'nkưng': 'nhưng', 'nắg': 'nắng', 'tíh': 'tính', 'khoảg': 'khoảng', 'thík': 'thích', 'ngđo': 'người_đó', 'ngkhác': 'người_khác', 'thẳg': 'thẳng', 'kảm': 'cảm', 'dàh': 'dành', 'júp': 'giúp', 'lặg': 'lặng', 'vđê': 'vấn_đề', 'bbè': 'bạn_bè', 'bóg': 'bóng', 'dky': 'đăng_ký', 'dòg': 'dòng', 'uốg': 'uống', 'tyêu': 'tình_yêu', 'snvv': 'sinh_nhật_vui_vẻ', 'đthoại': 'điện_thoại', 'qhe': 'quan_hệ', 'cviec': 'công_việc', 'tượg': 'tượng', 'qà': 'quà', 'thjc': 'thích', 'nhưq': 'nhưng', 'cđời': 'cuộc_đời', 'bthường': 'bình_thường', 'zà': 'già', 'đáh': 'đánh', 'xloi': 'xin_lỗi', 'zám': 'dám', 'qtrọng': 'quan_trọng', 'bìh': 'bình', 'lzi': 'làm_gì', 'qhệ': 'quan_hệ', 'đhbkhn': 'đại_học_bách_khoa_hà_nội', 'hajzz': 'hai', 'kủa': 'của', 'lz': 'làm_gì', 'đhkhtn': 'đại_học_khoa_học_tự_nhiên', 'đóg': 'đóng', 'cka': 'cha', 'lgi': 'làm_gì', 'nvậy': 'như_vậy', 'qả': 'quả', 'đkiện': 'điều_kiện', 'nèk': 'nè', 'tlai': 'tương_lai', 'bsĩ': 'bác_sĩ', 'hkì': 'học_kỳ', 'đcsvn': 'đảng_cộng_sản_việt_nam', 'vde': 'vấn_đề', 'chta': 'chúng_ta', 'òy': 'rồi', 'ltinh': 'linh_tinh', 'ngyeu': 'người_yêu', 'đthoai': 'điện_thoại', 'snghĩ': 'suy_nghĩ', 'nặg': 'nặng', 'họk': 'học', 'dừg': 'dừng', 'hphúc': 'hạnh_phúc', 'hiha': 'hi_ha', 'wtâm': 'quan_tâm', 'thíck': 'thích', 'chuện': 'chuyện', 'lạh': 'lạnh', 'fây': 'phây', 'ntnày': 'như_thế_này', 'lúk': 'lúc', 'haj': 'hai', 'ngía': 'nghía', 'mớj': 'mới', 'hsơ': 'hồ_sơ', 'ctraj': 'con_trai', 'nyêu': 'người_yêu', 'điiiiiii': 'đi', 'rồii': 'rồi', 'c': 'chị', 'kih': 'kinh', 'kb': 'kết_bạn', 'hixxx': 'hích', 'dthương': 'dễ_thương', 'nhiềuuu': 'nhiều', 'ctrình': 'chương_trình', 'mìnk': 'mình', 'mjh': 'mình', 'ng': 'người', 'vc': 'vợ_chồng', 'uhm': 'ừm', 'thỳ': 'thì', 'nyc': 'người_yêu_cũ', 'tks': 'thanks', 'nàg': 'nàng', 'thôii': 'thôi', 'đjên': 'điên', 'bgái': 'bạn_gái', 'vớii': 'với', 'xink': 'xinh', 'hđộng': 'hành_động', 'đhọc': 'đại_học', 'mk': 'mình', 'kó': 'có', 'bn': 'bạn', 'thik': 'thích', 'cj': 'chị', 'mn': 'mọi_người', 'nguoi': 'người', 'nógn': 'nóng', 'hok': 'không', 'ko': 'không', 'bik': 'biết', 'vs': 'với', 'cx': 'cũng', 'mik': 'mình', 'wtf': 'what_the_fuck', 'đc': 'được', 'cmt': 'comment', 'ck': 'chồng', 'chk': 'chồng', 'ngta': 'người_ta', 'gđ': 'gia_đình', 'oh': 'ồ', 'vk': 'vợ', 'ctác': 'công_tác', 'sg': 'sài_gòn', 'ae': 'anh_em', 'ah': 'à', 'ạh': 'ạ', 'rì': 'gì', 'ms': 'mới', 'vn': 'việt_nam', 'nhaa': 'nha', 'cũg': 'cũng', 'đag': 'đang', 'ơiii': 'ơi', 'hic': 'hích', 'ace': 'anh_chị_em', 'àk': 'à', 'uh': 'ừ', 'cmm': 'con_mẹ_mày', 'cmnr': 'con_mẹ_nó_rồi', 'ơiiii': 'ơi', 'hnay': 'hôm_nay', 'ukm': 'ừm', 'tq': 'trung_quốc', 'ctr': 'chương_trình', 'đii': 'đi', 'nch': 'nói_chuyện', 'trieu': 'triệu', 'hahah': 'ha_ha', 'nta': 'người_ta', 'ngèo': 'nghèo', 'kêh': 'kênh', 'ak': 'à', 'ad': 'admin', 'j': 'gì', 'ny': 'người_yêu', 'dc': 'được', 'qc': 'quảng_cáo', 'baoh': 'bao_giờ', 'zui': 'vui', 'zẻ': 'vẻ', 'tym': 'tim', 'aye': 'anh_yêu_em', 'eya': 'em_yêu_anh', 'fb': 'facebook', 'insta': 'instagram', 'z': 'vậy', 'thich': 'thích', 'vcl': 'vờ_cờ_lờ', 'đt': 'điện_thoại', 'acc': 'account', 'vl': 'vờ_lờ', 'loz': 'lồn', 'lozz': 'lồn', 'trc': 'trước', 'chs': 'chẳng_hiểu_sao', 'đhs': 'đéo_hiểu_sao', 'qá': 'quá', 'ntn': 'như_thế_nào', 'wá': 'quá', 'zậy': 'vậy', 'zô': 'dô', 'ytb': 'youtube', 'vđ': 'vãi_đái', 'vchg': 'vãi_chưởng', 'xl': 'xin_lỗi', 'cmn': 'con_mẹ_nó', 'face': 'facebook', 'hjhj': 'hi_hi', 'vv': 'vui_vẻ', 'ns': 'nói', 'iu': 'yêu', 'in4': 'info', 'qq': 'quằn_què', 'sub': 'subcribe', 'kh': 'không', 'zạ': 'vậy', 'oy': 'rồi', 'jo': 'giờ', 'bsvv': 'buổi_sáng_vui_vẻ', 'troai': 'trai', 'wa': 'quá', 'hjx': 'hix', 'e': 'em', 'ik': 'ý', 'ji': 'gì', 'ce': 'chị_em', 'lm': 'làm', 'đz': 'đẹp_giai', 'sr': 'sorry', 'ib': 'inbox', 'hoy': 'thôi', 'đbh': 'đéo_bao_giờ', 'k': 'không', 'vd': 'ví_dụ', 'a': 'anh', 'z_là': 'vậy_là', 'unf': 'unfriend', 'my_fen': 'my_friend', 'fen': 'friend', 'cty': 'công_ty', 'on_lai': 'online', 'kô': 'không', 'đtqg': 'đội_tuyển_quốc_gia', 'hqua': 'hôm_qua', 'xog': 'xong', 'uk': 'ừ', 'nhoé': 'nhé', 'biet': 'biết', 'quí': 'quý', 'stk': 'số_tài_khoản', 'đươc': 'được', 'nghành': 'ngành', 'nvqs': 'nghĩa_vụ_quân_sự', 'ngừoi': 'người', 'trog': 'trong', 'tgian': 'thời_gian', 'biêt': 'biết', 'fải': 'phải', 'nguời': 'người', 'tđn': 'thế_đéo_nào', 'bth': 'bình_thường', 'vcđ': 'vãi_cả_đái', 'tgdd': 'thế_giới_di_động', 'khg': 'không', 'nhưg': 'nhưng', 'thpt': 'trung_học_phổ_thông', 'thằg': 'thằng', 'đuợc': 'được', 'àh': 'à', 'ku': 'cu', 'thým': 'thím', 'onl': 'online', 'zú': 'vú', 'cmnd': 'chứng_minh_nhân_dân', 'sđt': 'số_điện_thoại', 'klq': 'không_liên_quan'}\n"
          ]
        }
      ],
      "source": [
        "teencode_dict = {}\n",
        "for i in range(len(teencode_words)):\n",
        "  teencode_dict[teencode_words[i]] = replace_words[i]\n",
        "\n",
        "print(teencode_dict)"
      ]
    },
    {
      "cell_type": "markdown",
      "metadata": {
        "id": "U4snhCHQLl4j"
      },
      "source": [
        "## Preprocess data"
      ]
    },
    {
      "cell_type": "code",
      "execution_count": 15,
      "metadata": {
        "id": "dyLxn-gTpSVe"
      },
      "outputs": [],
      "source": [
        "EMBEDDING_DIM = 400 # how big is each word vector\n",
        "MAX_VOCAB_SIZE = 10000 # how many unique words to use (i.e num rows in embedding vector)\n",
        "MAX_SEQUENCE_LENGTH = 150 # max number of words in a comment to use"
      ]
    },
    {
      "cell_type": "code",
      "execution_count": 16,
      "metadata": {
        "id": "F7hD6h_upWrP"
      },
      "outputs": [],
      "source": [
        "from tensorflow.keras.preprocessing.text import Tokenizer\n",
        "from tensorflow.keras.preprocessing.sequence import pad_sequences\n",
        "from tensorflow.keras.utils import to_categorical\n",
        "import regex as re\n",
        "import unicodedata"
      ]
    },
    {
      "cell_type": "code",
      "execution_count": 17,
      "metadata": {
        "id": "b4qavLbLBDyI"
      },
      "outputs": [],
      "source": [
        "# Reference : https://gist.github.com/slowkow/7a7f61f495e3dbb7e3d767f97bd7304b\n",
        "def remove_emoji(string):\n",
        "    emoji_pattern = re.compile(\"[\"\n",
        "                           u\"\\U0001F600-\\U0001F64F\"  # emoticons\n",
        "                           u\"\\U0001F300-\\U0001F5FF\"  # symbols & pictographs\n",
        "                           u\"\\U0001F680-\\U0001F6FF\"  # transport & map symbols\n",
        "                           u\"\\U0001F1E0-\\U0001F1FF\"  # flags (iOS)\n",
        "                           u\"\\U00002702-\\U000027B0\"\n",
        "                           u\"\\U000024C2-\\U0001F251\"\n",
        "                           \"]+\", flags=re.UNICODE)\n",
        "    return emoji_pattern.sub(r'', string)"
      ]
    },
    {
      "cell_type": "code",
      "execution_count": 18,
      "metadata": {
        "id": "KV6lIRAiBkQG"
      },
      "outputs": [],
      "source": [
        "def remove_urls(text):\n",
        "    url_pattern = re.compile(r'https?://\\S+|www\\.\\S+')\n",
        "    return url_pattern.sub(r'', text)"
      ]
    },
    {
      "cell_type": "code",
      "execution_count": 19,
      "metadata": {
        "id": "Zrdg-SBqCi7H"
      },
      "outputs": [],
      "source": [
        "def remove_apostrophe(text):\n",
        "    aspostrophe_pattern = re.compile(r'\\'s')\n",
        "    return aspostrophe_pattern.sub(r'', text)"
      ]
    },
    {
      "cell_type": "code",
      "execution_count": null,
      "metadata": {
        "id": "q5BbCHYUEvwa"
      },
      "outputs": [],
      "source": [
        "# def remove_price(text):\n",
        "#   price_pattern = re.compile(r'\\d+k|\\d+tr\\d*|\\d+cu|d+ củ|d+ triệu|d+ trăm|d+ trăm ngàn|d+ trieu')\n",
        "#   return price_pattern.sub(r'', text)"
      ]
    },
    {
      "cell_type": "markdown",
      "metadata": {
        "id": "igA-y2QasOaG"
      },
      "source": [
        "visualize train set"
      ]
    },
    {
      "cell_type": "code",
      "execution_count": null,
      "metadata": {
        "colab": {
          "base_uri": "https://localhost:8080/",
          "height": 301
        },
        "id": "JIwq6R2-wTUa",
        "outputId": "bf5a4c47-62cc-42c3-d33f-2a0e1dd18541"
      },
      "outputs": [
        {
          "data": {
            "image/png": "[encoded data removed]",
            "text/plain": [
              "<Figure size 432x288 with 1 Axes>"
            ]
          },
          "metadata": {
            "needs_background": "light"
          },
          "output_type": "display_data"
        },
        {
          "name": "stdout",
          "output_type": "stream",
          "text": [
            "avarage length 29.353921568627452\n",
            "maximum length 2885\n"
          ]
        }
      ],
      "source": [
        "seq_len = [len(i.split()) for i in reviews_train]\n",
        "pd.Series(seq_len).hist(bins = 20)\n",
        "plt.show()\n",
        "total_avg = sum( map(lambda x: len(x.split()), reviews_train) ) / len(reviews_train)\n",
        "max_len = max(map(lambda x: len(x.split()), reviews_train))\n",
        "print('avarage length', total_avg)\n",
        "print('maximum length', max_len)"
      ]
    },
    {
      "cell_type": "markdown",
      "metadata": {
        "id": "4RWIzENVsS1n"
      },
      "source": [
        "visualize test set"
      ]
    },
    {
      "cell_type": "code",
      "execution_count": 20,
      "metadata": {
        "colab": {
          "base_uri": "https://localhost:8080/",
          "height": 301
        },
        "id": "_VlhvMdbsVoe",
        "outputId": "a553438f-3627-48c4-84ea-384591973451"
      },
      "outputs": [
        {
          "data": {
            "image/png": "[encoded data removed]",
            "text/plain": [
              "<Figure size 432x288 with 1 Axes>"
            ]
          },
          "metadata": {
            "needs_background": "light"
          },
          "output_type": "display_data"
        },
        {
          "name": "stdout",
          "output_type": "stream",
          "text": [
            "avarage length 26.482857142857142\n",
            "maximum length 892\n"
          ]
        }
      ],
      "source": [
        "seq_len = [len(i.split()) for i in reviews_test]\n",
        "pd.Series(seq_len).hist(bins = 20)\n",
        "plt.show()\n",
        "total_avg = sum( map(lambda x: len(x.split()), reviews_test) ) / len(reviews_test)\n",
        "max_len = max(map(lambda x: len(x.split()), reviews_test))\n",
        "print('avarage length', total_avg)\n",
        "print('maximum length', max_len)"
      ]
    },
    {
      "cell_type": "markdown",
      "metadata": {
        "id": "JLTngkVWhb03"
      },
      "source": [
        "### Define preprocess function"
      ]
    },
    {
      "cell_type": "code",
      "execution_count": 21,
      "metadata": {
        "id": "MP9tGXZnhgVX"
      },
      "outputs": [],
      "source": [
        "tokenizer = Tokenizer(num_words=MAX_VOCAB_SIZE, lower=True, char_level=False)\n",
        "\n",
        "def preprocess(reviews, labels, train = False):\n",
        "  encoded_labels = []\n",
        "\n",
        "  for label in labels:\n",
        "      if label == -1:\n",
        "          encoded_labels.append([1,0,0])\n",
        "      elif label == 0:\n",
        "          encoded_labels.append([0,1,0])\n",
        "      else:\n",
        "          encoded_labels.append([0,0,1])\n",
        "\n",
        "  encoded_labels = np.array(encoded_labels) \n",
        "\n",
        "  reviews_processed = []\n",
        "  unlabeled_processed = [] \n",
        "  for review in reviews:\n",
        "    review = unicodedata.normalize('NFC', review)\n",
        "    review = remove_emoji(review)\n",
        "    review = remove_urls(review)\n",
        "    review = remove_apostrophe(review)\n",
        "    regex_review = re.sub(r\"[!\\\"#$%&'()*+,-./:;<=>?@\\[\\\\\\]^_`{|}]\", ' ', review)\n",
        "    review_cool_one = ''.join([char for char in regex_review if (char not in digits and char not in punctuation)])\n",
        "    reviews_processed.append(review_cool_one)\n",
        "  #Use PyVi for Vietnamese word tokenizer\n",
        "  word_reviews = []\n",
        "  all_words = []\n",
        "\n",
        "  for review in reviews_processed:\n",
        "    review = list(map(teencode_dict.get, review.lower().split(), review.lower().split()))\n",
        "    review = list(map(typo_dict.get, review, review))\n",
        "    review = ' '.join([word for word in review])\n",
        "    review = ViTokenizer.tokenize(review)\n",
        "    # review = list(filter(lambda x: x not in r'[^\\s\\wáàảãạăắằẳẵặâấầẩẫậéèẻẽẹêếềểễệóòỏõọôốồổỗộơớờởỡợíìỉĩịúùủũụưứừửữựýỳỷỹỵđ_]' \n",
        "    #                      and x not in list(ascii_lowercase), review))\n",
        "    review = review.split()\n",
        "    word_reviews.append(review)\n",
        "\n",
        "  if train:\n",
        "    tokenizer.fit_on_texts(word_reviews)\n",
        "    print('after preprocessing')\n",
        "    seq_len = [len(i) for i in word_reviews]\n",
        "    pd.Series(seq_len).hist(bins = 20)\n",
        "    plt.show()\n",
        "    total_avg = sum( map(len, word_reviews) ) / len(word_reviews)\n",
        "    max_len = max(map(len, word_reviews))\n",
        "    print('average length', total_avg)\n",
        "    print('maximum length', max_len)\n",
        "\n",
        "  sequences_train = tokenizer.texts_to_sequences(word_reviews) #[[7, 44, 82, 1, 1, 28, 55, 72], [...], ...]\n",
        "\n",
        "  data = pad_sequences(sequences_train, maxlen=MAX_SEQUENCE_LENGTH)\n",
        "  labels = encoded_labels\n",
        "\n",
        "  print('Shape of X train and X validation tensor:',data.shape)\n",
        "  print('Shape of label train and validation tensor:', labels.shape)\n",
        "\n",
        "  return data, labels"
      ]
    },
    {
      "cell_type": "markdown",
      "metadata": {
        "id": "-SBOEd11gmH5"
      },
      "source": [
        "### Test\n"
      ]
    },
    {
      "cell_type": "code",
      "execution_count": null,
      "metadata": {
        "id": "B8GViGUfP0JE"
      },
      "outputs": [],
      "source": [
        "# reviews_processed = []\n",
        "# unlabeled_processed = [] \n",
        "# for review in reviews_train[-30:-20]:\n",
        "#   print(review)\n",
        "#   # chuan hoa chuoi unicode\n",
        "#   review = unicodedata.normalize('NFC', review)\n",
        "#   # loai bo emoji\n",
        "#   review = remove_emoji(review)\n",
        "#   # loai bo url\n",
        "#   review = remove_urls(review)\n",
        "#   review = remove_apostrophe(review)\n",
        "#   # review = remove_price(review)\n",
        "#   # loai bo cac ki tu dac biet\n",
        "#   regex_review = re.sub(r\"[!\\\"#$%&'()*+,-./:;<=>?@\\[\\\\\\]^_`{|}]\", ' ', review)\n",
        "#   review_cool_one = ''.join([char for char in regex_review if (char not in digits and char not in punctuation)])\n",
        "#   review_cool_one = review_cool_one.lower()\n",
        "#   reviews_processed.append(review_cool_one)\n",
        "#   print(review_cool_one)\n",
        "# #Use PyVi for Vietnamese word tokenizer\n",
        "# word_reviews = []\n",
        "# all_words = []\n",
        "\n",
        "# # subs = {v:k for k, v in teencode_dict.items()}\n",
        "\n",
        "# for review in reviews_processed:\n",
        "#   review = review.split()\n",
        "#   review = list(map(typo_dict.get, review, review))\n",
        "#   print(\"remove typo\", review)\n",
        "#   review = list(map(teencode_dict.get, review, review))\n",
        "#   print(\"remove teencode\", review)\n",
        "#   review = ' '.join([word for word in review])\n",
        "#   print(review)\n",
        "#   review = ViTokenizer.tokenize(review)\n",
        "#   # review = list(filter(lambda x: x not in r'[^\\s\\wáàảãạăắằẳẵặâấầẩẫậéèẻẽẹêếềểễệóòỏõọôốồổỗộơớờởỡợíìỉĩịúùủũụưứừửữựýỳỷỹỵđ_]' \n",
        "#   #                      and x not in list(ascii_lowercase), review))\n",
        "#   review = review.split()\n",
        "#   word_reviews.append(review)\n",
        "#   print(review)"
      ]
    },
    {
      "cell_type": "markdown",
      "metadata": {
        "id": "hOFZYWglgqgw"
      },
      "source": [
        "### preprocess data"
      ]
    },
    {
      "cell_type": "code",
      "execution_count": 22,
      "metadata": {
        "colab": {
          "base_uri": "https://localhost:8080/",
          "height": 356
        },
        "id": "2SJrfsIApmi8",
        "outputId": "78075d0f-ad79-412e-eb7f-4423a32e0090"
      },
      "outputs": [
        {
          "name": "stdout",
          "output_type": "stream",
          "text": [
            "after preprocessing\n"
          ]
        },
        {
          "data": {
            "image/png": "[encoded data removed]",
            "text/plain": [
              "<Figure size 432x288 with 1 Axes>"
            ]
          },
          "metadata": {
            "needs_background": "light"
          },
          "output_type": "display_data"
        },
        {
          "name": "stdout",
          "output_type": "stream",
          "text": [
            "average length 25.253333333333334\n",
            "maximum length 2273\n",
            "Shape of X train and X validation tensor: (5100, 150)\n",
            "Shape of label train and validation tensor: (5100, 3)\n"
          ]
        }
      ],
      "source": [
        "data, labels = preprocess(reviews_train, labels_train, train = True)"
      ]
    },
    {
      "cell_type": "code",
      "execution_count": null,
      "metadata": {
        "colab": {
          "base_uri": "https://localhost:8080/"
        },
        "id": "KDkNgllPN_jM",
        "outputId": "80dac61c-a55c-4757-84e1-05b1c4678f84"
      },
      "outputs": [
        {
          "name": "stdout",
          "output_type": "stream",
          "text": [
            "Shape of X train and X validation tensor: (1, 150)\n",
            "Shape of label train and validation tensor: (1, 3)\n",
            "(array([[   0,    0,    0,    0,    0,    0,    0,    0,    0,    0,    0,\n",
            "           0,    0,    0,    0,    0,    0,    0,    0,    0,    0,    0,\n",
            "           0,    0,    0,    0,    0,    0,    0,    0,    0,    0,    0,\n",
            "           0,    0,    0,    0,    0,    0,    0,    0,    0,    0,    0,\n",
            "           0,    0,    0,    0,    0,    0,    0,    0,    0,    0,    0,\n",
            "           0,    0,    0,    0,    0,    0,    0,    0,    0,    0,    0,\n",
            "           0,    0,    0,    0,    0,    0,    0,    0,    0,    0,    0,\n",
            "           0,    0,    0,    0,    0,    0,    0,    0,    0,    0,    0,\n",
            "           0,    0,    0,    0,    0,    0,    0,    0,    0,    0,    0,\n",
            "           0,    0,    0,    0,    0,    0,    0,    0,    0,    0,    0,\n",
            "           0,    0,    0,    0,    0,    0,    0,    0,    0,    0,    0,\n",
            "           0,    0,    0,    0,    0,    0,    0,   91,  540,    9, 7708,\n",
            "          48,   60,    3,  138,  533,   72,  106,   92, 1205,   70,   47,\n",
            "         310, 1122,    4,    3,   82,  333,   18]], dtype=int32), array([[0, 1, 0]]))\n"
          ]
        }
      ],
      "source": [
        "print(preprocess(['sao mãi mà zeml vẫn chưa có bản cập nhật lên androi   vậy ad   trog khi zen laser thì có từ lâu rồi'],[0]))"
      ]
    },
    {
      "cell_type": "code",
      "execution_count": 23,
      "metadata": {
        "id": "HB0OizhfwEjf"
      },
      "outputs": [],
      "source": [
        "word_index = tokenizer.word_index #['giới_thiệu': 842,'điện_tử': 843,'phai': 844,'nhược_điểm': 845,...]"
      ]
    },
    {
      "cell_type": "code",
      "execution_count": 24,
      "metadata": {
        "colab": {
          "base_uri": "https://localhost:8080/"
        },
        "id": "aZkTG67uv28B",
        "outputId": "98bf520d-d3bf-4e66-aad8-fec1f23f4c3c"
      },
      "outputs": [
        {
          "data": {
            "text/plain": [
              "7717"
            ]
          },
          "execution_count": 24,
          "metadata": {},
          "output_type": "execute_result"
        }
      ],
      "source": [
        "len(word_index)"
      ]
    },
    {
      "cell_type": "code",
      "execution_count": null,
      "metadata": {
        "id": "ZCK0LQ90unNb"
      },
      "outputs": [],
      "source": [
        "word_index.get('androi')"
      ]
    },
    {
      "cell_type": "code",
      "execution_count": null,
      "metadata": {
        "id": "zgAFiwqxvON8"
      },
      "outputs": [],
      "source": [
        "dictionary = pd.DataFrame(word_index.items())"
      ]
    },
    {
      "cell_type": "code",
      "execution_count": null,
      "metadata": {
        "id": "sbupZOd7v850"
      },
      "outputs": [],
      "source": [
        "dictionary.to_csv('dict.csv')"
      ]
    },
    {
      "cell_type": "markdown",
      "metadata": {
        "id": "BaJxTlOCXBNj"
      },
      "source": [
        "#Model and train section"
      ]
    },
    {
      "cell_type": "markdown",
      "metadata": {
        "id": "iTllH3wuRzr6"
      },
      "source": [
        "## Embedding layer based on Vietnamese CBOW"
      ]
    },
    {
      "cell_type": "code",
      "execution_count": 25,
      "metadata": {
        "id": "-KKSjJdJmg-A"
      },
      "outputs": [],
      "source": [
        "import gensim\n",
        "from gensim.models import Word2Vec\n",
        "from gensim.utils import simple_preprocess\n",
        "\n",
        "from gensim.models.keyedvectors import KeyedVectors\n",
        "\n",
        "word_vectors = KeyedVectors.load_word2vec_format('/content/drive/MyDrive/Colab Notebooks/Lab5 NLP/vi-model-CBOW.bin', binary=True)\n",
        "\n",
        "\n",
        "\n",
        "vocabulary_size=min(len(word_index)+1,MAX_VOCAB_SIZE)\n",
        "embedding_matrix = np.zeros((vocabulary_size, EMBEDDING_DIM))\n",
        "for word, i in word_index.items():\n",
        "    if i>=MAX_VOCAB_SIZE:\n",
        "        continue\n",
        "    try:\n",
        "        embedding_vector = word_vectors[word]\n",
        "        embedding_matrix[i] = embedding_vector\n",
        "    except KeyError:\n",
        "        embedding_matrix[i]=np.random.normal(0,np.sqrt(0.25),EMBEDDING_DIM)\n",
        "\n",
        "del(word_vectors)\n",
        "\n",
        "from keras.layers import Embedding\n",
        "embedding_layer = Embedding(vocabulary_size,\n",
        "                            EMBEDDING_DIM,\n",
        "                            weights=[embedding_matrix],\n",
        "                            trainable=True)"
      ]
    },
    {
      "cell_type": "markdown",
      "metadata": {
        "id": "cXN39O7fBsh5"
      },
      "source": [
        "## CNN (Kim2014, double filter)"
      ]
    },
    {
      "cell_type": "code",
      "execution_count": null,
      "metadata": {
        "colab": {
          "base_uri": "https://localhost:8080/"
        },
        "id": "Csa0nGNQBo9A",
        "outputId": "e5e02e8f-afb6-484f-e59f-555e44727373"
      },
      "outputs": [
        {
          "name": "stdout",
          "output_type": "stream",
          "text": [
            "Model: \"model_12\"\n",
            "__________________________________________________________________________________________________\n",
            " Layer (type)                   Output Shape         Param #     Connected to                     \n",
            "==================================================================================================\n",
            " input_8 (InputLayer)           [(None, 150)]        0           []                               \n",
            "                                                                                                  \n",
            " embedding (Embedding)          (None, 150, 400)     3087200     ['input_8[0][0]']                \n",
            "                                                                                                  \n",
            " conv1d_33 (Conv1D)             (None, 148, 100)     120100      ['embedding[7][0]']              \n",
            "                                                                                                  \n",
            " conv1d_34 (Conv1D)             (None, 148, 100)     120100      ['embedding[7][0]']              \n",
            "                                                                                                  \n",
            " conv1d_35 (Conv1D)             (None, 147, 100)     160100      ['embedding[7][0]']              \n",
            "                                                                                                  \n",
            " conv1d_36 (Conv1D)             (None, 147, 100)     160100      ['embedding[7][0]']              \n",
            "                                                                                                  \n",
            " conv1d_37 (Conv1D)             (None, 146, 100)     200100      ['embedding[7][0]']              \n",
            "                                                                                                  \n",
            " conv1d_38 (Conv1D)             (None, 146, 100)     200100      ['embedding[7][0]']              \n",
            "                                                                                                  \n",
            " average_pooling1d_18 (AverageP  (None, 1, 100)      0           ['conv1d_33[0][0]']              \n",
            " ooling1D)                                                                                        \n",
            "                                                                                                  \n",
            " average_pooling1d_19 (AverageP  (None, 1, 100)      0           ['conv1d_34[0][0]']              \n",
            " ooling1D)                                                                                        \n",
            "                                                                                                  \n",
            " average_pooling1d_20 (AverageP  (None, 1, 100)      0           ['conv1d_35[0][0]']              \n",
            " ooling1D)                                                                                        \n",
            "                                                                                                  \n",
            " average_pooling1d_21 (AverageP  (None, 1, 100)      0           ['conv1d_36[0][0]']              \n",
            " ooling1D)                                                                                        \n",
            "                                                                                                  \n",
            " average_pooling1d_22 (AverageP  (None, 1, 100)      0           ['conv1d_37[0][0]']              \n",
            " ooling1D)                                                                                        \n",
            "                                                                                                  \n",
            " average_pooling1d_23 (AverageP  (None, 1, 100)      0           ['conv1d_38[0][0]']              \n",
            " ooling1D)                                                                                        \n",
            "                                                                                                  \n",
            " concatenate_7 (Concatenate)    (None, 6, 100)       0           ['average_pooling1d_18[0][0]',   \n",
            "                                                                  'average_pooling1d_19[0][0]',   \n",
            "                                                                  'average_pooling1d_20[0][0]',   \n",
            "                                                                  'average_pooling1d_21[0][0]',   \n",
            "                                                                  'average_pooling1d_22[0][0]',   \n",
            "                                                                  'average_pooling1d_23[0][0]']   \n",
            "                                                                                                  \n",
            " flatten_7 (Flatten)            (None, 600)          0           ['concatenate_7[0][0]']          \n",
            "                                                                                                  \n",
            " reshape_7 (Reshape)            (None, 600)          0           ['flatten_7[0][0]']              \n",
            "                                                                                                  \n",
            " dropout_7 (Dropout)            (None, 600)          0           ['reshape_7[0][0]']              \n",
            "                                                                                                  \n",
            " dense_14 (Dense)               (None, 256)          153856      ['dropout_7[0][0]']              \n",
            "                                                                                                  \n",
            " dense_15 (Dense)               (None, 3)            771         ['dense_14[0][0]']               \n",
            "                                                                                                  \n",
            "==================================================================================================\n",
            "Total params: 4,202,427\n",
            "Trainable params: 4,202,427\n",
            "Non-trainable params: 0\n",
            "__________________________________________________________________________________________________\n"
          ]
        }
      ],
      "source": [
        "from tensorflow.keras.layers import Dense, Input, GlobalMaxPooling1D\n",
        "from tensorflow.keras.layers import Conv1D, MaxPooling1D, Embedding, BatchNormalization, AveragePooling1D\n",
        "from tensorflow.keras.models import Model\n",
        "from tensorflow.keras.layers import Input, Dense, Embedding, Dropout, concatenate\n",
        "from tensorflow.keras.layers import Reshape, Flatten\n",
        "from tensorflow.keras.callbacks import EarlyStopping, ModelCheckpoint\n",
        "from tensorflow.keras.optimizers import Adam\n",
        "from tensorflow.keras.models import Model\n",
        "from tensorflow.keras import regularizers\n",
        "sequence_length = data.shape[1]\n",
        "filter_sizes = [3,4,5]\n",
        "num_filters = 100\n",
        "drop = 0.5\n",
        "\n",
        "inputs = Input(shape=(sequence_length,))\n",
        "embedding = embedding_layer(inputs)\n",
        "# reshape = Reshape((sequence_length,EMBEDDING_DIM,1))(embedding)\n",
        "\n",
        "conv_0 = Conv1D(num_filters, filter_sizes[0],activation='relu',kernel_regularizer=regularizers.l2(0.01))(embedding)\n",
        "\n",
        "conv_0b = Conv1D(num_filters, filter_sizes[0],activation='relu',kernel_regularizer=regularizers.l2(0.01))(embedding)\n",
        "\n",
        "\n",
        "conv_1 = Conv1D(num_filters, filter_sizes[1],activation='relu',kernel_regularizer=regularizers.l2(0.01))(embedding)\n",
        "\n",
        "conv_1b = Conv1D(num_filters, filter_sizes[1],activation='relu',kernel_regularizer=regularizers.l2(0.01))(embedding)\n",
        "\n",
        "\n",
        "conv_2 = Conv1D(num_filters, filter_sizes[2],activation='relu',kernel_regularizer=regularizers.l2(0.01))(embedding)\n",
        "\n",
        "conv_2b = Conv1D(num_filters, filter_sizes[2],activation='relu',kernel_regularizer=regularizers.l2(0.01))(embedding)\n",
        "\n",
        "\n",
        "# uncomment these lines to change into double filter\n",
        "maxpool_0 = AveragePooling1D(conv_0.shape[1], strides=1)(conv_0)\n",
        "maxpool_0b = AveragePooling1D(conv_0b.shape[1], strides=1)(conv_0b)\n",
        "maxpool_1 = AveragePooling1D(conv_1.shape[1], strides=1)(conv_1)\n",
        "maxpool_1b = AveragePooling1D(conv_1b.shape[1], strides=1)(conv_1b)\n",
        "maxpool_2 = AveragePooling1D(conv_2.shape[1], strides=1)(conv_2)\n",
        "maxpool_2b = AveragePooling1D(conv_2b.shape[1], strides=1)(conv_2b)\n",
        "\n",
        "merged_tensor = concatenate([maxpool_0\n",
        "                             , maxpool_0b\n",
        "                             , maxpool_1\n",
        "                             , maxpool_1b\n",
        "                             , maxpool_2\n",
        "                             , maxpool_2b\n",
        "                             ], axis=1)\n",
        "\n",
        "flatten = Flatten()(merged_tensor)\n",
        "reshape = Reshape((6*num_filters,))(flatten)\n",
        "\n",
        "dropout = Dropout(drop)(reshape)\n",
        "dense_0 = Dense(256, activation = 'relu')(dropout)\n",
        "output = Dense(units=3, activation='softmax', kernel_regularizer=regularizers.l2(0.01))(dense_0)\n",
        "\n",
        "\n",
        "# this creates a model that includes\n",
        "model = Model(inputs, output)\n",
        "\n",
        "\n",
        "adam = Adam(learning_rate = 0.001, beta_1=0.9, beta_2=0.999, epsilon=1e-08, decay=0.0)\n",
        "model.compile(loss='categorical_crossentropy', optimizer=adam, metrics=['accuracy', tf.keras.metrics.Precision(), tf.keras.metrics.Recall()])\n",
        "model.summary()\n"
      ]
    },
    {
      "cell_type": "markdown",
      "metadata": {
        "id": "gR3ffzK-SKAf"
      },
      "source": [
        "## LSTM (single or multiple LSTM layers, BiLSTM)"
      ]
    },
    {
      "cell_type": "markdown",
      "metadata": {
        "id": "14_IUVtAjpd6"
      },
      "source": [
        "###LSTM"
      ]
    },
    {
      "cell_type": "code",
      "execution_count": null,
      "metadata": {
        "colab": {
          "base_uri": "https://localhost:8080/"
        },
        "id": "njBANdn5mg-B",
        "outputId": "62a751a8-238c-40e3-88f1-b465deedf97a"
      },
      "outputs": [
        {
          "name": "stdout",
          "output_type": "stream",
          "text": [
            "Model: \"model_34\"\n",
            "_________________________________________________________________\n",
            " Layer (type)                Output Shape              Param #   \n",
            "=================================================================\n",
            " input_28 (InputLayer)       [(None, 150)]             0         \n",
            "                                                                 \n",
            " embedding_2 (Embedding)     (None, 150, 400)          3087200   \n",
            "                                                                 \n",
            " spatial_dropout1d_3 (Spatia  (None, 150, 400)         0         \n",
            " lDropout1D)                                                     \n",
            "                                                                 \n",
            " lstm_50 (LSTM)              (None, 64)                119040    \n",
            "                                                                 \n",
            " dropout_33 (Dropout)        (None, 64)                0         \n",
            "                                                                 \n",
            " dense_57 (Dense)            (None, 64)                4160      \n",
            "                                                                 \n",
            " dense_58 (Dense)            (None, 3)                 195       \n",
            "                                                                 \n",
            "=================================================================\n",
            "Total params: 3,210,595\n",
            "Trainable params: 3,210,595\n",
            "Non-trainable params: 0\n",
            "_________________________________________________________________\n"
          ]
        }
      ],
      "source": [
        "from keras.models import Model\n",
        "from keras.layers import *\n",
        "from keras.callbacks import EarlyStopping, ModelCheckpoint\n",
        "from keras.optimizers import Adam\n",
        "from keras.models import Model\n",
        "from keras import regularizers\n",
        "sequence_length = data.shape[1]\n",
        "\n",
        "drop = 0.4\n",
        "\n",
        "inputs = Input(shape=(sequence_length,))\n",
        "embedding = embedding_layer(inputs)\n",
        "\n",
        "################## LSTM ONLY ###############################\n",
        "spatial_dropout = SpatialDropout1D(0.2)(embedding)\n",
        "\n",
        "################# SINGLE LSTM ####################\n",
        "lstm_0 = LSTM(64)(spatial_dropout)\n",
        "\n",
        "# YOU WANNA ADD MORE LSTM LAYERS? UNCOMMENT THIS #\n",
        "# lstm_2 = LSTM(512, dropout = drop, return_sequences=True)(reshape)\n",
        "# lstm_1 = LSTM(256, dropout = drop, return_sequences=True)(lstm_2)\n",
        "# lstm_0 = LSTM(128)(lstm_1)\n",
        "\n",
        "# dropout = Dropout(drop)(concat)\n",
        "dropout = Dropout(0.2)(lstm_0)\n",
        "dense_0 = Dense(64, activation = 'relu')(dropout)\n",
        "# dense_1 = Dense(16, activation = 'relu')(dense_0)\n",
        "output = Dense(units=3, activation='softmax',kernel_regularizer=regularizers.l2(0.01))(dense_0)\n",
        "\n",
        "# this creates a model that includes\n",
        "model = Model(inputs, output)\n",
        "\n",
        "\n",
        "adam = Adam(lr=0.001, beta_1=0.9, beta_2=0.999, epsilon=1e-08, decay=0.0)\n",
        "model.compile(loss='categorical_crossentropy', optimizer=adam, metrics=['accuracy', tf.keras.metrics.Precision(), tf.keras.metrics.Recall()])\n",
        "model.summary()"
      ]
    },
    {
      "cell_type": "markdown",
      "metadata": {
        "id": "DYJ6Rg8wQpCq"
      },
      "source": [
        "###Bidirectional LSTM"
      ]
    },
    {
      "cell_type": "code",
      "execution_count": null,
      "metadata": {
        "colab": {
          "base_uri": "https://localhost:8080/"
        },
        "id": "c2484A1A7Gku",
        "outputId": "0a385fec-17bd-49f6-9c2e-2dce405b8931"
      },
      "outputs": [
        {
          "name": "stdout",
          "output_type": "stream",
          "text": [
            "Model: \"model_23\"\n",
            "_________________________________________________________________\n",
            " Layer (type)                Output Shape              Param #   \n",
            "=================================================================\n",
            " input_18 (InputLayer)       [(None, 150)]             0         \n",
            "                                                                 \n",
            " embedding_6 (Embedding)     (None, 150, 400)          3109600   \n",
            "                                                                 \n",
            " bidirectional_24 (Bidirecti  (None, 150, 1024)        3739648   \n",
            " onal)                                                           \n",
            "                                                                 \n",
            " bidirectional_25 (Bidirecti  (None, 150, 512)         2623488   \n",
            " onal)                                                           \n",
            "                                                                 \n",
            " global_average_pooling1d_7   (None, 512)              0         \n",
            " (GlobalAveragePooling1D)                                        \n",
            "                                                                 \n",
            " dense_37 (Dense)            (None, 128)               65664     \n",
            "                                                                 \n",
            " dropout_22 (Dropout)        (None, 128)               0         \n",
            "                                                                 \n",
            " dense_38 (Dense)            (None, 64)                8256      \n",
            "                                                                 \n",
            " dropout_23 (Dropout)        (None, 64)                0         \n",
            "                                                                 \n",
            " dense_39 (Dense)            (None, 3)                 195       \n",
            "                                                                 \n",
            "=================================================================\n",
            "Total params: 9,546,851\n",
            "Trainable params: 9,546,851\n",
            "Non-trainable params: 0\n",
            "_________________________________________________________________\n"
          ]
        }
      ],
      "source": [
        "from keras.models import Model\n",
        "from keras.layers import *\n",
        "from keras.callbacks import EarlyStopping, ModelCheckpoint\n",
        "from keras.optimizers import Adam\n",
        "from keras.models import Model\n",
        "from keras import regularizers\n",
        "sequence_length = data.shape[1]\n",
        "\n",
        "sequence_length = data.shape[1]\n",
        "inputs = Input(shape=(sequence_length,))\n",
        "embedding = embedding_layer(inputs)\n",
        "\n",
        "biLSTM_0 = Bidirectional(LSTM(512, dropout = 0.2, return_sequences=True), merge_mode='concat')(embedding)\n",
        "\n",
        "biLSTM_1 = Bidirectional(LSTM(256,  dropout = 0.2, return_sequences=True), merge_mode='concat')(biLSTM_0)\n",
        "\n",
        "# biLSTM_2 = Bidirectional(LSTM(128, dropout = 0.2, return_sequences=True), merge_mode='concat')(biLSTM_1)\n",
        "\n",
        "globalPool_0 = GlobalAveragePooling1D()(biLSTM_1)\n",
        "\n",
        "dense_0 = Dense(128, activation = 'relu')(globalPool_0)\n",
        "dropout_0 = Dropout(0.2)(dense_0)\n",
        "\n",
        "dense_1 = Dense(64, activation = 'relu')(dropout_0)\n",
        "dropout_1 = Dropout(0.2)(dense_1)\n",
        "\n",
        "output = Dense(units=3, activation='softmax',kernel_regularizer=regularizers.l2(0.01))(dropout_1)\n",
        "\n",
        "model = Model(inputs, output)\n",
        "\n",
        "adam = Adam(lr=0.001, beta_1=0.9, beta_2=0.999, epsilon=1e-08, decay=0.0)\n",
        "model.compile(loss='categorical_crossentropy', optimizer=adam, metrics=['accuracy', tf.keras.metrics.Precision(), tf.keras.metrics.Recall()])\n",
        "model.summary()\n"
      ]
    },
    {
      "cell_type": "code",
      "execution_count": null,
      "metadata": {
        "colab": {
          "base_uri": "https://localhost:8080/"
        },
        "id": "IW4kF48atzEF",
        "outputId": "6006032e-69dc-40d6-fce6-87cb04938510"
      },
      "outputs": [
        {
          "name": "stdout",
          "output_type": "stream",
          "text": [
            "Model: \"model_25\"\n",
            "__________________________________________________________________________________________________\n",
            " Layer (type)                   Output Shape         Param #     Connected to                     \n",
            "==================================================================================================\n",
            " input_20 (InputLayer)          [(None, 150)]        0           []                               \n",
            "                                                                                                  \n",
            " embedding_6 (Embedding)        (None, 150, 400)     3109600     ['input_20[0][0]']               \n",
            "                                                                                                  \n",
            " bidirectional_28 (Bidirectiona  (None, 150, 512)    1345536     ['embedding_6[14][0]']           \n",
            " l)                                                                                               \n",
            "                                                                                                  \n",
            " bidirectional_29 (Bidirectiona  (None, 150, 512)    1345536     ['embedding_6[14][0]']           \n",
            " l)                                                                                               \n",
            "                                                                                                  \n",
            " max_pooling1d_27 (MaxPooling1D  (None, 1, 512)      0           ['bidirectional_28[0][0]']       \n",
            " )                                                                                                \n",
            "                                                                                                  \n",
            " max_pooling1d_28 (MaxPooling1D  (None, 1, 512)      0           ['bidirectional_29[0][0]']       \n",
            " )                                                                                                \n",
            "                                                                                                  \n",
            " concatenate_10 (Concatenate)   (None, 2, 512)       0           ['max_pooling1d_27[0][0]',       \n",
            "                                                                  'max_pooling1d_28[0][0]']       \n",
            "                                                                                                  \n",
            " flatten_10 (Flatten)           (None, 1024)         0           ['concatenate_10[0][0]']         \n",
            "                                                                                                  \n",
            " reshape_10 (Reshape)           (None, 1024)         0           ['flatten_10[0][0]']             \n",
            "                                                                                                  \n",
            " dropout_25 (Dropout)           (None, 1024)         0           ['reshape_10[0][0]']             \n",
            "                                                                                                  \n",
            " dense_42 (Dense)               (None, 256)          262400      ['dropout_25[0][0]']             \n",
            "                                                                                                  \n",
            " dense_43 (Dense)               (None, 3)            771         ['dense_42[0][0]']               \n",
            "                                                                                                  \n",
            "==================================================================================================\n",
            "Total params: 6,063,843\n",
            "Trainable params: 6,063,843\n",
            "Non-trainable params: 0\n",
            "__________________________________________________________________________________________________\n"
          ]
        }
      ],
      "source": [
        "# from keras.models import Model\n",
        "# from keras.layers import *\n",
        "# from keras.callbacks import EarlyStopping, ModelCheckpoint\n",
        "# from keras.optimizers import Adam\n",
        "# from keras.models import Model\n",
        "# from keras import regularizers\n",
        "# sequence_length = data.shape[1]\n",
        "\n",
        "# sequence_length = data.shape[1]\n",
        "# inputs = Input(shape=(sequence_length,))\n",
        "# embedding = embedding_layer(inputs)\n",
        "\n",
        "# biLSTM_0 = Bidirectional(LSTM(256, dropout = 0.5, return_sequences=True), merge_mode='concat')(embedding)\n",
        "# biLSTM_1 = Bidirectional(LSTM(256,  dropout = 0.5, return_sequences=True), merge_mode='concat')(embedding)\n",
        "\n",
        "# maxpool_0  = AveragePooling1D(biLSTM_0.shape[1], strides = 1)(biLSTM_0)\n",
        "# maxpool_1  = AveragePooling1D(biLSTM_0.shape[1], strides = 1)(biLSTM_1)\n",
        "\n",
        "# merged_tensor = concatenate([maxpool_0\n",
        "#                              , maxpool_1\n",
        "#                              ], axis=1)\n",
        "\n",
        "# flatten = Flatten()(merged_tensor)\n",
        "# reshape = Reshape((1024,))(flatten)\n",
        "\n",
        "# dropout = Dropout(drop)(reshape)\n",
        "# dense_0 = Dense(256, activation = 'relu')(dropout)\n",
        "# output = Dense(units=3, activation='softmax', kernel_regularizer=regularizers.l2(0.01))(dense_0)\n",
        "\n",
        "# model = Model(inputs, output)\n",
        "\n",
        "# adam = Adam(lr=0.001, beta_1=0.9, beta_2=0.999, epsilon=1e-08, decay=0.0)\n",
        "# model.compile(loss='categorical_crossentropy', optimizer=adam, metrics=['accuracy', tf.keras.metrics.Precision(), tf.keras.metrics.Recall()])\n",
        "# model.summary()\n"
      ]
    },
    {
      "cell_type": "markdown",
      "metadata": {
        "id": "w6vZtqVwVYpf"
      },
      "source": [
        "## CNN + LSTM"
      ]
    },
    {
      "cell_type": "markdown",
      "metadata": {
        "id": "HsxYcvcFoeHA"
      },
      "source": [
        "### double filter CNN -> 3 LSTM layer  "
      ]
    },
    {
      "cell_type": "code",
      "execution_count": 46,
      "metadata": {
        "colab": {
          "base_uri": "https://localhost:8080/"
        },
        "id": "98jmXgreaO0a",
        "outputId": "adcb0080-6882-47fd-9a74-39e10aacecbb"
      },
      "outputs": [
        {
          "name": "stdout",
          "output_type": "stream",
          "text": [
            "Model: \"model_5\"\n",
            "__________________________________________________________________________________________________\n",
            " Layer (type)                   Output Shape         Param #     Connected to                     \n",
            "==================================================================================================\n",
            " input_5 (InputLayer)           [(None, 150)]        0           []                               \n",
            "                                                                                                  \n",
            " embedding (Embedding)          (None, 150, 400)     3087200     ['input_5[0][0]']                \n",
            "                                                                                                  \n",
            " reshape_14 (Reshape)           (None, 150, 400)     0           ['embedding[4][0]']              \n",
            "                                                                                                  \n",
            " conv1d_16 (Conv1D)             (None, 150, 100)     120100      ['reshape_14[0][0]']             \n",
            "                                                                                                  \n",
            " conv1d_17 (Conv1D)             (None, 150, 100)     160100      ['reshape_14[0][0]']             \n",
            "                                                                                                  \n",
            " conv1d_18 (Conv1D)             (None, 150, 100)     200100      ['reshape_14[0][0]']             \n",
            "                                                                                                  \n",
            " conv1d_19 (Conv1D)             (None, 150, 100)     120100      ['reshape_14[0][0]']             \n",
            "                                                                                                  \n",
            " conv1d_20 (Conv1D)             (None, 150, 100)     160100      ['reshape_14[0][0]']             \n",
            "                                                                                                  \n",
            " conv1d_21 (Conv1D)             (None, 150, 100)     200100      ['reshape_14[0][0]']             \n",
            "                                                                                                  \n",
            " max_pooling1d_12 (MaxPooling1D  (None, 1, 100)      0           ['conv1d_16[0][0]']              \n",
            " )                                                                                                \n",
            "                                                                                                  \n",
            " max_pooling1d_13 (MaxPooling1D  (None, 1, 100)      0           ['conv1d_17[0][0]']              \n",
            " )                                                                                                \n",
            "                                                                                                  \n",
            " max_pooling1d_14 (MaxPooling1D  (None, 1, 100)      0           ['conv1d_18[0][0]']              \n",
            " )                                                                                                \n",
            "                                                                                                  \n",
            " average_pooling1d_6 (AveragePo  (None, 1, 100)      0           ['conv1d_19[0][0]']              \n",
            " oling1D)                                                                                         \n",
            "                                                                                                  \n",
            " average_pooling1d_7 (AveragePo  (None, 1, 100)      0           ['conv1d_20[0][0]']              \n",
            " oling1D)                                                                                         \n",
            "                                                                                                  \n",
            " average_pooling1d_8 (AveragePo  (None, 1, 100)      0           ['conv1d_21[0][0]']              \n",
            " oling1D)                                                                                         \n",
            "                                                                                                  \n",
            " reshape_15 (Reshape)           (None, 1, 100)       0           ['max_pooling1d_12[0][0]']       \n",
            "                                                                                                  \n",
            " reshape_16 (Reshape)           (None, 1, 100)       0           ['max_pooling1d_13[0][0]']       \n",
            "                                                                                                  \n",
            " reshape_17 (Reshape)           (None, 1, 100)       0           ['max_pooling1d_14[0][0]']       \n",
            "                                                                                                  \n",
            " reshape_18 (Reshape)           (None, 1, 100)       0           ['average_pooling1d_6[0][0]']    \n",
            "                                                                                                  \n",
            " reshape_19 (Reshape)           (None, 1, 100)       0           ['average_pooling1d_7[0][0]']    \n",
            "                                                                                                  \n",
            " reshape_20 (Reshape)           (None, 1, 100)       0           ['average_pooling1d_8[0][0]']    \n",
            "                                                                                                  \n",
            " concatenate_3 (Concatenate)    (None, 1, 600)       0           ['reshape_15[0][0]',             \n",
            "                                                                  'reshape_16[0][0]',             \n",
            "                                                                  'reshape_17[0][0]',             \n",
            "                                                                  'reshape_18[0][0]',             \n",
            "                                                                  'reshape_19[0][0]',             \n",
            "                                                                  'reshape_20[0][0]']             \n",
            "                                                                                                  \n",
            " bidirectional_8 (Bidirectional  (None, 1, 1024)     4558848     ['concatenate_3[0][0]']          \n",
            " )                                                                                                \n",
            "                                                                                                  \n",
            " bidirectional_9 (Bidirectional  (None, 1, 512)      2623488     ['bidirectional_8[0][0]']        \n",
            " )                                                                                                \n",
            "                                                                                                  \n",
            " bidirectional_10 (Bidirectiona  (None, 1, 256)      656384      ['bidirectional_9[0][0]']        \n",
            " l)                                                                                               \n",
            "                                                                                                  \n",
            " global_average_pooling1d_2 (Gl  (None, 256)         0           ['bidirectional_10[0][0]']       \n",
            " obalAveragePooling1D)                                                                            \n",
            "                                                                                                  \n",
            " dropout_7 (Dropout)            (None, 256)          0           ['global_average_pooling1d_2[0][0\n",
            "                                                                 ]']                              \n",
            "                                                                                                  \n",
            " dense_7 (Dense)                (None, 128)          32896       ['dropout_7[0][0]']              \n",
            "                                                                                                  \n",
            " dense_8 (Dense)                (None, 3)            387         ['dense_7[0][0]']                \n",
            "                                                                                                  \n",
            "==================================================================================================\n",
            "Total params: 11,919,803\n",
            "Trainable params: 11,919,803\n",
            "Non-trainable params: 0\n",
            "__________________________________________________________________________________________________\n"
          ]
        }
      ],
      "source": [
        "from keras.models import Model\n",
        "from keras.layers import *\n",
        "from keras.callbacks import EarlyStopping\n",
        "from keras.optimizers import Adam\n",
        "from keras.models import Model\n",
        "from keras import regularizers\n",
        "sequence_length = data.shape[1]\n",
        "filter_sizes = [3,4,5]\n",
        "num_filters = 100\n",
        "drop = 0.4\n",
        "\n",
        "inputs = Input(shape=(sequence_length,))\n",
        "embedding = embedding_layer(inputs)\n",
        "\n",
        "################## LSTM ONLY ###############################\n",
        "# reshape = Reshape((sequence_length,EMBEDDING_DIM))(embedding)\n",
        "\n",
        "################# SINGLE LSTM ####################\n",
        "# lstm_0 = LSTM(512)(reshape)\n",
        "\n",
        "# YOU WANNA ADD MORE LSTM LAYERS? UNCOMMENT THIS #\n",
        "# lstm_2 = LSTM(1024, return_sequences=True)(reshape)\n",
        "# lstm_1 = LSTM(512, return_sequences=True)(lstm_2)\n",
        "# lstm_0 = LSTM(256)(lstm_1)\n",
        "\n",
        "############################################################\n",
        "\n",
        "\n",
        "################## CRNN ####################################\n",
        "reshape = Reshape((sequence_length,EMBEDDING_DIM))(embedding)\n",
        "# print(reshape.shape)\n",
        "# (None, MAX_SEQUENCE_LENGTH, 400)\n",
        "\n",
        "conv_0 = Conv1D(num_filters, (filter_sizes[0], ),padding=\"same\",activation='relu',kernel_regularizer=regularizers.l2(0.01))(reshape)\n",
        "conv_1 = Conv1D(num_filters, (filter_sizes[1], ),padding=\"same\",activation='relu',kernel_regularizer=regularizers.l2(0.01))(reshape)\n",
        "conv_2 = Conv1D(num_filters, (filter_sizes[2], ),padding=\"same\",activation='relu',kernel_regularizer=regularizers.l2(0.01))(reshape)\n",
        "conv_0b = Conv1D(num_filters, (filter_sizes[0], ),padding=\"same\",activation='relu',kernel_regularizer=regularizers.l2(0.01))(reshape)\n",
        "conv_1b = Conv1D(num_filters, (filter_sizes[1], ),padding=\"same\",activation='relu',kernel_regularizer=regularizers.l2(0.01))(reshape)\n",
        "conv_2b = Conv1D(num_filters, (filter_sizes[2], ),padding=\"same\",activation='relu',kernel_regularizer=regularizers.l2(0.01))(reshape)\n",
        "\n",
        "# print(\"a\",conv_0.shape)\n",
        "# (None, MAX_SEQUENCE_LENGTH, 100)\n",
        "\n",
        "conv_0 = MaxPool1D(MAX_SEQUENCE_LENGTH)(conv_0)\n",
        "conv_1 = MaxPool1D(MAX_SEQUENCE_LENGTH)(conv_1)\n",
        "conv_2 = MaxPool1D(MAX_SEQUENCE_LENGTH)(conv_2)\n",
        "conv_0b = AveragePooling1D(MAX_SEQUENCE_LENGTH)(conv_0b)\n",
        "conv_1b = AveragePooling1D(MAX_SEQUENCE_LENGTH)(conv_1b)\n",
        "conv_2b = AveragePooling1D(MAX_SEQUENCE_LENGTH)(conv_2b)\n",
        "# print(\"b\",conv_0.shape)\n",
        "# (None, 1, 100)\n",
        "\n",
        "# Reshape output to match RNN dimension\n",
        "conv_0 = Reshape((-1, num_filters))(conv_0)\n",
        "conv_1 = Reshape((-1, num_filters))(conv_1)\n",
        "conv_2 = Reshape((-1, num_filters))(conv_2)\n",
        "conv_0b = Reshape((-1, num_filters))(conv_0b)\n",
        "conv_1b = Reshape((-1, num_filters))(conv_1b)\n",
        "conv_2b = Reshape((-1, num_filters))(conv_2b)\n",
        "\n",
        "concat = concatenate([\n",
        "                      conv_0, \n",
        "                      conv_1, \n",
        "                      conv_2,\n",
        "                      conv_0b, \n",
        "                      conv_1b, \n",
        "                      conv_2b\n",
        "                      ])\n",
        "# print(concat.shape)\n",
        "\n",
        "# concat = Flatten()(concat) \n",
        "# print(concat.shape)\n",
        "\n",
        "# lstm_0 = LSTM(512)(concat)\n",
        "\n",
        "# YOU WANNA ADD MORE LSTM LAYERS? UNCOMMENT THIS #\n",
        "lstm_2 = Bidirectional(LSTM(512, return_sequences=True))(concat)\n",
        "lstm_1 = Bidirectional(LSTM(256, return_sequences=True))(lstm_2)\n",
        "lstm_0 = Bidirectional(LSTM(128, return_sequences=True))(lstm_1)\n",
        "\n",
        "globalPool_0 = GlobalAveragePooling1D()(lstm_0)\n",
        "############################################################\n",
        "\n",
        "# dropout = Dropout(drop)(concat)\n",
        "dropout = Dropout(drop)(globalPool_0)\n",
        "dense_0 = Dense(128, activation = 'relu')(dropout)\n",
        "output = Dense(units=3, activation='softmax',kernel_regularizer=regularizers.l2(0.01))(dense_0)\n",
        "\n",
        "# this creates a model that includes\n",
        "model = Model(inputs, output)\n",
        "\n",
        "\n",
        "adam = Adam(lr=0.001)\n",
        "model.compile(loss='categorical_crossentropy', optimizer=adam, metrics=['accuracy', tf.keras.metrics.Precision(), tf.keras.metrics.Recall()])\n",
        "model.summary()"
      ]
    },
    {
      "cell_type": "markdown",
      "metadata": {
        "id": "pGkX0a5ixi1N"
      },
      "source": [
        "### CNN concat with BiLSTM"
      ]
    },
    {
      "cell_type": "code",
      "execution_count": 28,
      "metadata": {
        "colab": {
          "base_uri": "https://localhost:8080/"
        },
        "id": "thhE5PcLtUMq",
        "outputId": "02d6ffed-9466-432d-eb43-713bd014c5f3"
      },
      "outputs": [
        {
          "name": "stdout",
          "output_type": "stream",
          "text": [
            "Model: \"model\"\n",
            "__________________________________________________________________________________________________\n",
            " Layer (type)                   Output Shape         Param #     Connected to                     \n",
            "==================================================================================================\n",
            " input_2 (InputLayer)           [(None, 150)]        0           []                               \n",
            "                                                                                                  \n",
            " embedding (Embedding)          (None, 150, 400)     3087200     ['input_2[0][0]']                \n",
            "                                                                                                  \n",
            " conv1d_2 (Conv1D)              (None, 150, 100)     120100      ['embedding[1][0]']              \n",
            "                                                                                                  \n",
            " max_pooling1d_2 (MaxPooling1D)  (None, 75, 100)     0           ['conv1d_2[0][0]']               \n",
            "                                                                                                  \n",
            " dropout_1 (Dropout)            (None, 75, 100)      0           ['max_pooling1d_2[0][0]']        \n",
            "                                                                                                  \n",
            " bidirectional (Bidirectional)  (None, 150, 200)     400800      ['embedding[1][0]']              \n",
            "                                                                                                  \n",
            " conv1d_3 (Conv1D)              (None, 75, 100)      30100       ['dropout_1[0][0]']              \n",
            "                                                                                                  \n",
            " max_pooling1d_4 (MaxPooling1D)  (None, 75, 200)     0           ['bidirectional[0][0]']          \n",
            "                                                                                                  \n",
            " max_pooling1d_3 (MaxPooling1D)  (None, 37, 100)     0           ['conv1d_3[0][0]']               \n",
            "                                                                                                  \n",
            " bidirectional_1 (Bidirectional  (None, 75, 200)     181200      ['max_pooling1d_4[0][0]']        \n",
            " )                                                                                                \n",
            "                                                                                                  \n",
            " layer_normalization (LayerNorm  (None, 37, 100)     200         ['max_pooling1d_3[0][0]']        \n",
            " alization)                                                                                       \n",
            "                                                                                                  \n",
            " max_pooling1d_5 (MaxPooling1D)  (None, 37, 200)     0           ['bidirectional_1[0][0]']        \n",
            "                                                                                                  \n",
            " dropout_2 (Dropout)            (None, 37, 100)      0           ['layer_normalization[0][0]']    \n",
            "                                                                                                  \n",
            " layer_normalization_1 (LayerNo  (None, 37, 200)     400         ['max_pooling1d_5[0][0]']        \n",
            " rmalization)                                                                                     \n",
            "                                                                                                  \n",
            " concatenate (Concatenate)      (None, 37, 300)      0           ['dropout_2[0][0]',              \n",
            "                                                                  'layer_normalization_1[0][0]']  \n",
            "                                                                                                  \n",
            " global_max_pooling1d (GlobalMa  (None, 300)         0           ['concatenate[0][0]']            \n",
            " xPooling1D)                                                                                      \n",
            "                                                                                                  \n",
            " layer_normalization_2 (LayerNo  (None, 300)         600         ['global_max_pooling1d[0][0]']   \n",
            " rmalization)                                                                                     \n",
            "                                                                                                  \n",
            " dense (Dense)                  (None, 100)          30100       ['layer_normalization_2[0][0]']  \n",
            "                                                                                                  \n",
            " dropout_3 (Dropout)            (None, 100)          0           ['dense[0][0]']                  \n",
            "                                                                                                  \n",
            " dense_1 (Dense)                (None, 50)           5050        ['dropout_3[0][0]']              \n",
            "                                                                                                  \n",
            " dropout_4 (Dropout)            (None, 50)           0           ['dense_1[0][0]']                \n",
            "                                                                                                  \n",
            " dense_2 (Dense)                (None, 3)            153         ['dropout_4[0][0]']              \n",
            "                                                                                                  \n",
            "==================================================================================================\n",
            "Total params: 3,855,903\n",
            "Trainable params: 3,855,903\n",
            "Non-trainable params: 0\n",
            "__________________________________________________________________________________________________\n"
          ]
        }
      ],
      "source": [
        "from tensorflow.keras.layers import Dense, Input, GlobalMaxPooling1D\n",
        "from tensorflow.keras.layers import Conv1D, MaxPooling1D, Embedding, BatchNormalization, AveragePooling1D\n",
        "from tensorflow.keras.models import Model\n",
        "\n",
        "from tensorflow.keras.layers import *\n",
        "from tensorflow.keras.layers import Reshape, Flatten\n",
        "from tensorflow.keras.callbacks import EarlyStopping, ModelCheckpoint\n",
        "from tensorflow.keras.optimizers import Adam\n",
        "from tensorflow.keras.models import Model\n",
        "from tensorflow.keras import regularizers\n",
        "\n",
        "initializer = tf.keras.initializers.GlorotNormal()\n",
        "\n",
        "sequence_length = data.shape[1]\n",
        "\n",
        "inputs = Input(shape=(sequence_length,))\n",
        "embedding = embedding_layer(inputs)\n",
        "\n",
        "conv_0 = Conv1D(100, 3, padding = 'same', activation = 'relu') (embedding)\n",
        "maxpool_0 = MaxPooling1D() (conv_0)\n",
        "dropout_0 = Dropout(0.4) (maxpool_0)\n",
        "conv_1 = Conv1D(100, 3, padding = 'same', activation = 'relu') (dropout_0)\n",
        "maxpool_1 = MaxPooling1D() (conv_1)\n",
        "layernorm_0 = LayerNormalization() (maxpool_1)\n",
        "dropout_1 = Dropout(0.4) (layernorm_0)\n",
        "\n",
        "biLSTM_0 = Bidirectional(LSTM(100, dropout = 0.4, return_sequences = True, kernel_initializer = initializer)) (embedding)\n",
        "maxpool_3 = MaxPooling1D() (biLSTM_0)\n",
        "biLSTM_1 = Bidirectional(GRU(100, dropout = 0.4, return_sequences = True, kernel_initializer = initializer)) (maxpool_3)\n",
        "maxpool_4 = MaxPooling1D() (biLSTM_1)\n",
        "layernorm_1 = LayerNormalization() (maxpool_4)\n",
        "\n",
        "concat = Concatenate()([dropout_1, layernorm_1])\n",
        "globalpool_0 = GlobalMaxPooling1D() (concat)\n",
        "layernorm_2 = LayerNormalization() (globalpool_0)\n",
        "\n",
        " \n",
        "dense_0 = Dense(100, activation = 'relu') (layernorm_2)\n",
        "dropout_2 = Dropout(0.4) (dense_0)\n",
        "dense_1 = Dense(50, activation = 'relu') (dropout_2)\n",
        "dropout_3 = Dropout(0.4) (dense_1)\n",
        "output = Dense(3, activation = 'softmax') (dropout_3)\n",
        "\n",
        "model = Model(inputs, output)\n",
        "\n",
        "\n",
        "adam = Adam(learning_rate = 0.001, beta_1=0.9, beta_2=0.999, epsilon=1e-08, decay=0.0)\n",
        "model.compile(loss='categorical_crossentropy', optimizer=adam, metrics=['accuracy', tf.keras.metrics.Precision(), tf.keras.metrics.Recall()])\n",
        "model.summary()"
      ]
    },
    {
      "cell_type": "markdown",
      "metadata": {
        "id": "HDJjE_19Sdxj"
      },
      "source": [
        "## Callbacks"
      ]
    },
    {
      "cell_type": "code",
      "execution_count": 47,
      "metadata": {
        "id": "kG38fKtkYfN0"
      },
      "outputs": [],
      "source": [
        "#define callbacks\n",
        "early_stopping = EarlyStopping(monitor='val_loss', min_delta=0.01, patience=4, verbose=1)\n",
        "checkpoint_filepath = '/tmp/checkpoint'\n",
        "model_checkpoint_callback = ModelCheckpoint(\n",
        "    filepath=checkpoint_filepath,\n",
        "    save_weights_only=True,\n",
        "    monitor='val_loss',\n",
        "    mode='min',\n",
        "    save_best_only=True)\n",
        "\n",
        "callbacks_list = [model_checkpoint_callback]\n"
      ]
    },
    {
      "cell_type": "markdown",
      "metadata": {
        "id": "EuEROF6gSiKm"
      },
      "source": [
        "## Training "
      ]
    },
    {
      "cell_type": "code",
      "execution_count": null,
      "metadata": {
        "id": "Jn0dBlzjmg-D"
      },
      "outputs": [],
      "source": [
        "with device:\n",
        "  history = model.fit(data, labels, validation_split=0.1,\n",
        "          epochs=25, batch_size=256, callbacks=callbacks_list, shuffle = False)"
      ]
    },
    {
      "cell_type": "markdown",
      "metadata": {
        "id": "0mBvMY5mO_Rm"
      },
      "source": [
        "Show training metrics"
      ]
    },
    {
      "cell_type": "code",
      "execution_count": null,
      "metadata": {
        "id": "rLkz7ZGOO-eX"
      },
      "outputs": [],
      "source": [
        "plt.plot(history.history['loss'])\n",
        "plt.plot(history.history['val_loss'])\n",
        "plt.title('model loss')\n",
        "plt.ylabel('loss')\n",
        "plt.xlabel('epoch')\n",
        "plt.legend(['train', 'val'], loc='upper left')\n",
        "plt.show()\n",
        "plt.plot(history.history['accuracy'])\n",
        "plt.plot(history.history['val_accuracy'])\n",
        "plt.title('model accuracy')\n",
        "plt.ylabel('accuracy')\n",
        "plt.xlabel('epoch')\n",
        "plt.legend(['train', 'val'], loc='upper left')\n",
        "plt.show()"
      ]
    },
    {
      "cell_type": "markdown",
      "metadata": {
        "id": "TDjw-uosW7jr"
      },
      "source": [
        "#Test section"
      ]
    },
    {
      "cell_type": "code",
      "execution_count": 33,
      "metadata": {
        "id": "8XoN2UOamg-D"
      },
      "outputs": [],
      "source": [
        "data_test = pd.read_csv(\"vlsp_sentiment_test.csv\", sep='\\t')\n",
        "data_test.columns =['Class', 'Data']\n",
        "labels_test = data_test.iloc[:, 0].values\n",
        "reviews_test = data_test.iloc[:, 1].values"
      ]
    },
    {
      "cell_type": "code",
      "execution_count": 34,
      "metadata": {
        "colab": {
          "base_uri": "https://localhost:8080/"
        },
        "id": "L5ooLi24qoQI",
        "outputId": "fe957616-3c81-4710-d06b-2ec7ca049c76"
      },
      "outputs": [
        {
          "name": "stdout",
          "output_type": "stream",
          "text": [
            "Shape of X train and X validation tensor: (1050, 150)\n",
            "Shape of label train and validation tensor: (1050, 3)\n"
          ]
        }
      ],
      "source": [
        "testdata, testlabels = preprocess(reviews_test, labels_test)"
      ]
    },
    {
      "cell_type": "code",
      "execution_count": 41,
      "metadata": {
        "colab": {
          "base_uri": "https://localhost:8080/"
        },
        "id": "LKclttiOmg-F",
        "outputId": "e932bbac-baff-473e-d142-31af56dffef0"
      },
      "outputs": [
        {
          "name": "stdout",
          "output_type": "stream",
          "text": [
            "33/33 [==============================] - 1s 14ms/step - loss: 2.0526 - accuracy: 0.6714 - precision_2: 0.6731 - recall_2: 0.6686\n"
          ]
        }
      ],
      "source": [
        "score = model.evaluate(testdata, testlabels)"
      ]
    },
    {
      "cell_type": "code",
      "execution_count": 42,
      "metadata": {
        "colab": {
          "base_uri": "https://localhost:8080/"
        },
        "id": "oVbR8NJ55EEw",
        "outputId": "e3a5ec44-736a-4d0e-d172-ac96720c93f5"
      },
      "outputs": [
        {
          "name": "stdout",
          "output_type": "stream",
          "text": [
            "33/33 [==============================] - 5s 14ms/step - loss: 1.1285 - accuracy: 0.6476 - precision_3: 0.6698 - recall_3: 0.6143\n"
          ]
        }
      ],
      "source": [
        "best_model = Model(inputs, output)\n",
        "best_model.compile(loss='categorical_crossentropy', optimizer=adam, metrics=['accuracy', tf.keras.metrics.Precision(), tf.keras.metrics.Recall()])\n",
        "best_model.load_weights(checkpoint_filepath)\n",
        "score = best_model.evaluate(testdata, testlabels)"
      ]
    },
    {
      "cell_type": "code",
      "execution_count": null,
      "metadata": {
        "id": "UAYLnvDo13TS"
      },
      "outputs": [],
      "source": [
        "print(model.metrics_names)"
      ]
    },
    {
      "cell_type": "code",
      "execution_count": null,
      "metadata": {
        "id": "r31_uxxgmg-G"
      },
      "outputs": [],
      "source": [
        "print(\"%s: %.2f\" % (model.metrics_names[0], score[0]))\n",
        "print(\"%s: %.2f%%\" % (model.metrics_names[1], score[1]*100))\n",
        "print(\"%s: %.2f%%\" % (model.metrics_names[2], score[2]*100))\n",
        "print(\"%s: %.2f%%\" % (model.metrics_names[3], score[3]*100))"
      ]
    }
  ],
  "metadata": {
    "accelerator": "GPU",
    "colab": {
      "collapsed_sections": [
        "-SBOEd11gmH5",
        "cXN39O7fBsh5",
        "gR3ffzK-SKAf",
        "14_IUVtAjpd6"
      ],
      "provenance": []
    },
    "gpuClass": "standard",
    "kernelspec": {
      "display_name": "Python 3",
      "language": "python",
      "name": "python3"
    },
    "language_info": {
      "codemirror_mode": {
        "name": "ipython",
        "version": 3
      },
      "file_extension": ".py",
      "mimetype": "text/x-python",
      "name": "python",
      "nbconvert_exporter": "python",
      "pygments_lexer": "ipython3",
      "version": "3.7.3"
    }
  },
  "nbformat": 4,
  "nbformat_minor": 0
}
